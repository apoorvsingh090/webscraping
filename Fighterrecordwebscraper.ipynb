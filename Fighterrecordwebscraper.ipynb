{
  "nbformat": 4,
  "nbformat_minor": 0,
  "metadata": {
    "colab": {
      "name": "Fighterrecordwebscraper.ipynb",
      "provenance": [],
      "collapsed_sections": [],
      "authorship_tag": "ABX9TyPiKlY1dOvk+sPOInWyWgYg",
      "include_colab_link": true
    },
    "kernelspec": {
      "name": "python3",
      "display_name": "Python 3"
    }
  },
  "cells": [
    {
      "cell_type": "markdown",
      "metadata": {
        "id": "view-in-github",
        "colab_type": "text"
      },
      "source": [
        "<a href=\"https://colab.research.google.com/github/apoorvsingh090/webscraping/blob/master/Fighterrecordwebscraper.ipynb\" target=\"_parent\"><img src=\"https://colab.research.google.com/assets/colab-badge.svg\" alt=\"Open In Colab\"/></a>"
      ]
    },
    {
      "cell_type": "code",
      "metadata": {
        "id": "RF0Hct9BbYLd",
        "outputId": "dabe8447-ee51-4715-a189-2361f3162ad4",
        "colab": {
          "base_uri": "https://localhost:8080/",
          "height": 139
        }
      },
      "source": [
        "!pip install requests\n",
        "!pip install beautifulsoup4\n",
        "import numpy as np\n",
        "import pandas as pd\n",
        "import requests\n",
        "import bs4\n",
        "import lxml.etree as xml\n",
        "URL = \"https://en.wikipedia.org/wiki/Khabib_Nurmagomedov\"\n",
        "\n",
        "requests.get(URL)\n",
        "web_page = bs4.BeautifulSoup(requests.get(URL, {}).text, \"lxml\")\n",
        "sub_web_page = web_page.find_all(name=\"table\", attrs={\"class\": \"wikitable\"})\n",
        "columns = list(sub_web_page[1].tbody.children)\n",
        "t3 = [elem.text.strip(\"\\n \") \n",
        "       \n",
        "           for elem in columns\n",
        "           if type(elem) != bs4.NavigableString\n",
        "           \n",
        "      ]\n",
        "for i in range(len(t3)):\n",
        "  t3[i]=t3[i].replace('\\n',' ')\n",
        "l1=[]\n",
        "l1=t3[0].split('  ')\n",
        "t3=t3[1:]\n",
        "import pandas as pd\n",
        "k=[]\n",
        "for i in range(len(t3)):\n",
        "  k.append(t3[i].split('  '))\n",
        "  d2=pd.DataFrame(k,columns=l1)\n",
        "d2.set_index('Record',inplace=True)"
      ],
      "execution_count": 4,
      "outputs": [
        {
          "output_type": "stream",
          "text": [
            "Requirement already satisfied: requests in /usr/local/lib/python3.6/dist-packages (2.23.0)\n",
            "Requirement already satisfied: chardet<4,>=3.0.2 in /usr/local/lib/python3.6/dist-packages (from requests) (3.0.4)\n",
            "Requirement already satisfied: idna<3,>=2.5 in /usr/local/lib/python3.6/dist-packages (from requests) (2.10)\n",
            "Requirement already satisfied: urllib3!=1.25.0,!=1.25.1,<1.26,>=1.21.1 in /usr/local/lib/python3.6/dist-packages (from requests) (1.24.3)\n",
            "Requirement already satisfied: certifi>=2017.4.17 in /usr/local/lib/python3.6/dist-packages (from requests) (2020.6.20)\n",
            "Requirement already satisfied: beautifulsoup4 in /usr/local/lib/python3.6/dist-packages (4.6.3)\n"
          ],
          "name": "stdout"
        }
      ]
    },
    {
      "cell_type": "code",
      "metadata": {
        "id": "nGBj5rPedKqn",
        "outputId": "33ed19dd-5703-456b-9f1a-0ebda9733f0d",
        "colab": {
          "base_uri": "https://localhost:8080/",
          "height": 371
        }
      },
      "source": [
        "d2.head()"
      ],
      "execution_count": 7,
      "outputs": [
        {
          "output_type": "execute_result",
          "data": {
            "text/html": [
              "<div>\n",
              "<style scoped>\n",
              "    .dataframe tbody tr th:only-of-type {\n",
              "        vertical-align: middle;\n",
              "    }\n",
              "\n",
              "    .dataframe tbody tr th {\n",
              "        vertical-align: top;\n",
              "    }\n",
              "\n",
              "    .dataframe thead th {\n",
              "        text-align: right;\n",
              "    }\n",
              "</style>\n",
              "<table border=\"1\" class=\"dataframe\">\n",
              "  <thead>\n",
              "    <tr style=\"text-align: right;\">\n",
              "      <th></th>\n",
              "      <th>Res.</th>\n",
              "      <th>Opponent</th>\n",
              "      <th>Method</th>\n",
              "      <th>Event</th>\n",
              "      <th>Date</th>\n",
              "      <th>Round</th>\n",
              "      <th>Time</th>\n",
              "      <th>Location</th>\n",
              "      <th>Notes</th>\n",
              "    </tr>\n",
              "    <tr>\n",
              "      <th>Record</th>\n",
              "      <th></th>\n",
              "      <th></th>\n",
              "      <th></th>\n",
              "      <th></th>\n",
              "      <th></th>\n",
              "      <th></th>\n",
              "      <th></th>\n",
              "      <th></th>\n",
              "      <th></th>\n",
              "    </tr>\n",
              "  </thead>\n",
              "  <tbody>\n",
              "    <tr>\n",
              "      <th>28–0</th>\n",
              "      <td>Win</td>\n",
              "      <td>Dustin Poirier</td>\n",
              "      <td>Submission (rear-naked choke)</td>\n",
              "      <td>UFC 242</td>\n",
              "      <td>7 September 2019</td>\n",
              "      <td>3</td>\n",
              "      <td>2:06</td>\n",
              "      <td>Abu Dhabi, United Arab Emirates</td>\n",
              "      <td>Defended and unified the UFC Lightweight Champ...</td>\n",
              "    </tr>\n",
              "    <tr>\n",
              "      <th>27–0</th>\n",
              "      <td>Win</td>\n",
              "      <td>Conor McGregor</td>\n",
              "      <td>Submission (neck crank)</td>\n",
              "      <td>UFC 229</td>\n",
              "      <td>6 October 2018</td>\n",
              "      <td>4</td>\n",
              "      <td>3:03</td>\n",
              "      <td>Las Vegas, Nevada, United States</td>\n",
              "      <td>Defended the UFC Lightweight Championship.</td>\n",
              "    </tr>\n",
              "    <tr>\n",
              "      <th>26–0</th>\n",
              "      <td>Win</td>\n",
              "      <td>Al Iaquinta</td>\n",
              "      <td>Decision (unanimous)</td>\n",
              "      <td>UFC 223</td>\n",
              "      <td>7 April 2018</td>\n",
              "      <td>5</td>\n",
              "      <td>5:00</td>\n",
              "      <td>Brooklyn, New York, United States</td>\n",
              "      <td>Won the vacant UFC Lightweight Championship.</td>\n",
              "    </tr>\n",
              "    <tr>\n",
              "      <th>25–0</th>\n",
              "      <td>Win</td>\n",
              "      <td>Edson Barboza</td>\n",
              "      <td>Decision (unanimous)</td>\n",
              "      <td>UFC 219</td>\n",
              "      <td>30 December 2017</td>\n",
              "      <td>3</td>\n",
              "      <td>5:00</td>\n",
              "      <td>Las Vegas, Nevada, United States</td>\n",
              "      <td>Performance of the Night.</td>\n",
              "    </tr>\n",
              "    <tr>\n",
              "      <th>24–0</th>\n",
              "      <td>Win</td>\n",
              "      <td>Michael Johnson</td>\n",
              "      <td>Submission (kimura)</td>\n",
              "      <td>UFC 205</td>\n",
              "      <td>12 November 2016</td>\n",
              "      <td>3</td>\n",
              "      <td>2:31</td>\n",
              "      <td>New York City, New York, United States</td>\n",
              "      <td>None</td>\n",
              "    </tr>\n",
              "  </tbody>\n",
              "</table>\n",
              "</div>"
            ],
            "text/plain": [
              "       Res.  ...                                              Notes\n",
              "Record       ...                                                   \n",
              "28–0    Win  ...  Defended and unified the UFC Lightweight Champ...\n",
              "27–0    Win  ...         Defended the UFC Lightweight Championship.\n",
              "26–0    Win  ...       Won the vacant UFC Lightweight Championship.\n",
              "25–0    Win  ...                          Performance of the Night.\n",
              "24–0    Win  ...                                               None\n",
              "\n",
              "[5 rows x 9 columns]"
            ]
          },
          "metadata": {
            "tags": []
          },
          "execution_count": 7
        }
      ]
    },
    {
      "cell_type": "code",
      "metadata": {
        "id": "-Kqcp3McZIs-"
      },
      "source": [
        "d2.to_csv('Fighter_record.csv')"
      ],
      "execution_count": 5,
      "outputs": []
    },
    {
      "cell_type": "code",
      "metadata": {
        "id": "SelTLnAWZbfB"
      },
      "source": [
        ""
      ],
      "execution_count": 5,
      "outputs": []
    }
  ]
}