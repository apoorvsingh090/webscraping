{
  "nbformat": 4,
  "nbformat_minor": 0,
  "metadata": {
    "colab": {
      "name": "Fighterrecordwebscraper.ipynb",
      "provenance": [],
      "collapsed_sections": [],
      "authorship_tag": "ABX9TyNd/As8sIF6UT2UWijcbaY5",
      "include_colab_link": true
    },
    "kernelspec": {
      "name": "python3",
      "display_name": "Python 3"
    }
  },
  "cells": [
    {
      "cell_type": "markdown",
      "metadata": {
        "id": "view-in-github",
        "colab_type": "text"
      },
      "source": [
        "<a href=\"https://colab.research.google.com/github/apoorvsingh090/webscraping/blob/master/Fighterrecordwebscraper.ipynb\" target=\"_parent\"><img src=\"https://colab.research.google.com/assets/colab-badge.svg\" alt=\"Open In Colab\"/></a>"
      ]
    },
    {
      "cell_type": "code",
      "metadata": {
        "id": "RF0Hct9BbYLd",
        "outputId": "b737a79d-ca94-4764-b72c-599cfa23a051",
        "colab": {
          "base_uri": "https://localhost:8080/",
          "height": 119
        }
      },
      "source": [
        "!pip install requests\n",
        "!pip install beautifulsoup4\n",
        "import numpy as np\n",
        "import pandas as pd\n",
        "import requests\n",
        "import bs4\n",
        "import lxml.etree as xml\n",
        "URL = \"https://en.wikipedia.org/wiki/Jos%C3%A9_Aldo\"\n",
        "\n",
        "requests.get(URL)\n",
        "web_page = bs4.BeautifulSoup(requests.get(URL, {}).text, \"lxml\")\n",
        "sub_web_page = web_page.find_all(name=\"table\", attrs={\"class\": \"wikitable\" ,\"style\":\"font-size: 85%;\"})\n",
        "columns = list(sub_web_page[0].tbody.children)\n",
        "t3 = [elem.text.strip(\"\\n \") \n",
        "       \n",
        "           for elem in columns\n",
        "           if type(elem) != bs4.NavigableString\n",
        "           \n",
        "      ]\n",
        "for i in range(len(t3)):\n",
        "  t3[i]=t3[i].replace('\\n',' ')\n",
        "l1=[]\n",
        "l1=t3[0].split('  ')\n",
        "t3=t3[1:]\n",
        "import pandas as pd\n",
        "k=[]\n",
        "for i in range(len(t3)):\n",
        "  k.append(t3[i].split('  '))\n",
        "  d2=pd.DataFrame(k,columns=l1)\n",
        "d2.set_index('Record',inplace=True)"
      ],
      "execution_count": 83,
      "outputs": [
        {
          "output_type": "stream",
          "text": [
            "Requirement already satisfied: requests in /usr/local/lib/python3.6/dist-packages (2.23.0)\n",
            "Requirement already satisfied: urllib3!=1.25.0,!=1.25.1,<1.26,>=1.21.1 in /usr/local/lib/python3.6/dist-packages (from requests) (1.24.3)\n",
            "Requirement already satisfied: idna<3,>=2.5 in /usr/local/lib/python3.6/dist-packages (from requests) (2.10)\n",
            "Requirement already satisfied: certifi>=2017.4.17 in /usr/local/lib/python3.6/dist-packages (from requests) (2020.6.20)\n",
            "Requirement already satisfied: chardet<4,>=3.0.2 in /usr/local/lib/python3.6/dist-packages (from requests) (3.0.4)\n",
            "Requirement already satisfied: beautifulsoup4 in /usr/local/lib/python3.6/dist-packages (4.6.3)\n"
          ],
          "name": "stdout"
        }
      ]
    },
    {
      "cell_type": "code",
      "metadata": {
        "id": "nGBj5rPedKqn",
        "outputId": "652facb3-c619-43fc-ba14-ac8f13e8b6a4",
        "colab": {
          "base_uri": "https://localhost:8080/",
          "height": 303
        }
      },
      "source": [
        "d2.head()\n"
      ],
      "execution_count": 84,
      "outputs": [
        {
          "output_type": "execute_result",
          "data": {
            "text/html": [
              "<div>\n",
              "<style scoped>\n",
              "    .dataframe tbody tr th:only-of-type {\n",
              "        vertical-align: middle;\n",
              "    }\n",
              "\n",
              "    .dataframe tbody tr th {\n",
              "        vertical-align: top;\n",
              "    }\n",
              "\n",
              "    .dataframe thead th {\n",
              "        text-align: right;\n",
              "    }\n",
              "</style>\n",
              "<table border=\"1\" class=\"dataframe\">\n",
              "  <thead>\n",
              "    <tr style=\"text-align: right;\">\n",
              "      <th></th>\n",
              "      <th>Res.</th>\n",
              "      <th>Opponent</th>\n",
              "      <th>Method</th>\n",
              "      <th>Event</th>\n",
              "      <th>Date</th>\n",
              "      <th>Round</th>\n",
              "      <th>Time</th>\n",
              "      <th>Location</th>\n",
              "      <th>Notes</th>\n",
              "    </tr>\n",
              "    <tr>\n",
              "      <th>Record</th>\n",
              "      <th></th>\n",
              "      <th></th>\n",
              "      <th></th>\n",
              "      <th></th>\n",
              "      <th></th>\n",
              "      <th></th>\n",
              "      <th></th>\n",
              "      <th></th>\n",
              "      <th></th>\n",
              "    </tr>\n",
              "  </thead>\n",
              "  <tbody>\n",
              "    <tr>\n",
              "      <th>28–7</th>\n",
              "      <td>Loss</td>\n",
              "      <td>Petr Yan</td>\n",
              "      <td>TKO (punches)</td>\n",
              "      <td>UFC 251</td>\n",
              "      <td>July 12, 2020</td>\n",
              "      <td>5</td>\n",
              "      <td>3:24</td>\n",
              "      <td>Abu Dhabi, United Arab Emirates</td>\n",
              "      <td>For the vacant UFC Bantamweight Championship.</td>\n",
              "    </tr>\n",
              "    <tr>\n",
              "      <th>28–6</th>\n",
              "      <td>Loss</td>\n",
              "      <td>Marlon Moraes</td>\n",
              "      <td>Decision (split)</td>\n",
              "      <td>UFC 245</td>\n",
              "      <td>December 14, 2019</td>\n",
              "      <td>3</td>\n",
              "      <td>5:00</td>\n",
              "      <td>Las Vegas, Nevada, United States</td>\n",
              "      <td>Bantamweight debut.</td>\n",
              "    </tr>\n",
              "    <tr>\n",
              "      <th>28–5</th>\n",
              "      <td>Loss</td>\n",
              "      <td>Alexander Volkanovski</td>\n",
              "      <td>Decision (unanimous)</td>\n",
              "      <td>UFC 237</td>\n",
              "      <td>May 11, 2019</td>\n",
              "      <td>3</td>\n",
              "      <td>5:00</td>\n",
              "      <td>Rio de Janeiro, Brazil</td>\n",
              "      <td>None</td>\n",
              "    </tr>\n",
              "    <tr>\n",
              "      <th>28–4</th>\n",
              "      <td>Win</td>\n",
              "      <td>Renato Moicano</td>\n",
              "      <td>TKO (punches)</td>\n",
              "      <td>UFC Fight Night: Assunção vs. Moraes 2</td>\n",
              "      <td>February 2, 2019</td>\n",
              "      <td>2</td>\n",
              "      <td>0:44</td>\n",
              "      <td>Fortaleza, Brazil</td>\n",
              "      <td>Performance of the Night.</td>\n",
              "    </tr>\n",
              "    <tr>\n",
              "      <th>27–4</th>\n",
              "      <td>Win</td>\n",
              "      <td>Jeremy Stephens</td>\n",
              "      <td>TKO (punches)</td>\n",
              "      <td>UFC on Fox: Alvarez vs. Poirier 2</td>\n",
              "      <td>July 28, 2018</td>\n",
              "      <td>1</td>\n",
              "      <td>4:19</td>\n",
              "      <td>Calgary, Alberta, Canada</td>\n",
              "      <td>Performance of the Night.</td>\n",
              "    </tr>\n",
              "  </tbody>\n",
              "</table>\n",
              "</div>"
            ],
            "text/plain": [
              "        Res.  ...                                          Notes\n",
              "Record        ...                                               \n",
              "28–7    Loss  ...  For the vacant UFC Bantamweight Championship.\n",
              "28–6    Loss  ...                            Bantamweight debut.\n",
              "28–5    Loss  ...                                           None\n",
              "28–4     Win  ...                      Performance of the Night.\n",
              "27–4     Win  ...                      Performance of the Night.\n",
              "\n",
              "[5 rows x 9 columns]"
            ]
          },
          "metadata": {
            "tags": []
          },
          "execution_count": 84
        }
      ]
    },
    {
      "cell_type": "code",
      "metadata": {
        "id": "-Kqcp3McZIs-"
      },
      "source": [
        "d2.to_csv('Fighter_record.csv')"
      ],
      "execution_count": 3,
      "outputs": []
    }
  ]
}